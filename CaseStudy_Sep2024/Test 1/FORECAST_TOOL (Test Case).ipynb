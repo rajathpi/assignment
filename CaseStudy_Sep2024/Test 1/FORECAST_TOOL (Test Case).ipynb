{
 "cells": [
  {
   "cell_type": "code",
   "execution_count": 3,
   "metadata": {},
   "outputs": [
    {
     "name": "stdout",
     "output_type": "stream",
     "text": [
      "3.11.4 | packaged by Anaconda, Inc. | (main, Jul  5 2023, 13:38:37) [MSC v.1916 64 bit (AMD64)]\n"
     ]
    }
   ],
   "source": [
    "import sys\n",
    "print(sys.version)"
   ]
  },
  {
   "cell_type": "code",
   "execution_count": 4,
   "metadata": {
    "application/vnd.databricks.v1+cell": {
     "inputWidgets": {},
     "nuid": "f0a75448-eec6-42d5-8a38-ec810bcea7ac",
     "showTitle": false,
     "title": ""
    }
   },
   "outputs": [],
   "source": [
    "# Gather .csv files. \n",
    "# Join R3F002, R3F015, and DealerCurrency. \n",
    "# Final table in tidy format.\n",
    "# Note: The code has some bugs. Also, part of the code needs to be customised to your environment and storage place of the csv files in your desktop."
   ]
  },
  {
   "cell_type": "code",
   "execution_count": 0,
   "metadata": {
    "application/vnd.databricks.v1+cell": {
     "inputWidgets": {},
     "nuid": "a9153c35-6c58-420a-b4d4-c43e988a4308",
     "showTitle": false,
     "title": ""
    }
   },
   "outputs": [
    {
     "data": {
      "text/html": [
       "<style scoped>\n",
       "  .ansiout {\n",
       "    display: block;\n",
       "    unicode-bidi: embed;\n",
       "    white-space: pre-wrap;\n",
       "    word-wrap: break-word;\n",
       "    word-break: break-all;\n",
       "    font-family: \"Source Code Pro\", \"Menlo\", monospace;;\n",
       "    font-size: 13px;\n",
       "    color: #555;\n",
       "    margin-left: 4px;\n",
       "    line-height: 19px;\n",
       "  }\n",
       "</style>\n",
       "<div class=\"ansiout\"></div>"
      ]
     },
     "metadata": {
      "application/vnd.databricks.v1+output": {
       "addedWidgets": {},
       "arguments": {},
       "data": "<div class=\"ansiout\"></div>",
       "datasetInfos": [
        {
         "name": "df_R3F002",
         "schema": {
          "fields": [
           {
            "metadata": {},
            "name": "BDLNO",
            "nullable": true,
            "type": "integer"
           },
           {
            "metadata": {},
            "name": "BPPRF",
            "nullable": true,
            "type": "string"
           },
           {
            "metadata": {},
            "name": "BPRTN",
            "nullable": true,
            "type": "integer"
           },
           {
            "metadata": {},
            "name": "BPRTC",
            "nullable": true,
            "type": "integer"
           },
           {
            "metadata": {},
            "name": "BSUGR",
            "nullable": true,
            "type": "integer"
           },
           {
            "metadata": {},
            "name": "BSTBA",
            "nullable": true,
            "type": "integer"
           },
           {
            "metadata": {},
            "name": "BEPSB",
            "nullable": true,
            "type": "integer"
           },
           {
            "metadata": {},
            "name": "BFLES",
            "nullable": true,
            "type": "integer"
           },
           {
            "metadata": {},
            "name": "BQORD",
            "nullable": true,
            "type": "integer"
           },
           {
            "metadata": {},
            "name": "BQBO",
            "nullable": true,
            "type": "integer"
           },
           {
            "metadata": {},
            "name": "BQFC",
            "nullable": true,
            "type": "double"
           },
           {
            "metadata": {},
            "name": "BMFAC",
            "nullable": true,
            "type": "integer"
           },
           {
            "metadata": {},
            "name": "BFFCO",
            "nullable": true,
            "type": "integer"
           },
           {
            "metadata": {},
            "name": "BCDTR",
            "nullable": true,
            "type": "integer"
           },
           {
            "metadata": {},
            "name": "BFOSE",
            "nullable": true,
            "type": "integer"
           },
           {
            "metadata": {},
            "name": "BDSI1",
            "nullable": true,
            "type": "integer"
           },
           {
            "metadata": {},
            "name": "BDSI2",
            "nullable": true,
            "type": "integer"
           },
           {
            "metadata": {},
            "name": "BCLPR",
            "nullable": true,
            "type": "integer"
           },
           {
            "metadata": {},
            "name": "BCLFR",
            "nullable": true,
            "type": "string"
           },
           {
            "metadata": {},
            "name": "BLTIM",
            "nullable": true,
            "type": "double"
           },
           {
            "metadata": {},
            "name": "BOPP",
            "nullable": true,
            "type": "integer"
           },
           {
            "metadata": {},
            "name": "BFLBO",
            "nullable": true,
            "type": "integer"
           },
           {
            "metadata": {},
            "name": "BPQP",
            "nullable": true,
            "type": "integer"
           },
           {
            "metadata": {},
            "name": "BSVQP",
            "nullable": true,
            "type": "integer"
           },
           {
            "metadata": {},
            "name": "BRPED",
            "nullable": true,
            "type": "integer"
           },
           {
            "metadata": {},
            "name": "BRPNG",
            "nullable": true,
            "type": "integer"
           },
           {
            "metadata": {},
            "name": "BCDPU",
            "nullable": true,
            "type": "integer"
           },
           {
            "metadata": {},
            "name": "BCDPL",
            "nullable": true,
            "type": "integer"
           },
           {
            "metadata": {},
            "name": "BCDMO",
            "nullable": true,
            "type": "integer"
           },
           {
            "metadata": {},
            "name": "BCDDE",
            "nullable": true,
            "type": "integer"
           },
           {
            "metadata": {},
            "name": "BFLUN",
            "nullable": true,
            "type": "string"
           },
           {
            "metadata": {},
            "name": "BINF1",
            "nullable": true,
            "type": "string"
           },
           {
            "metadata": {},
            "name": "BINF2",
            "nullable": true,
            "type": "string"
           },
           {
            "metadata": {},
            "name": "BNPYD",
            "nullable": true,
            "type": "integer"
           },
           {
            "metadata": {},
            "name": "BNPPY",
            "nullable": true,
            "type": "integer"
           },
           {
            "metadata": {},
            "name": "BNPYD2",
            "nullable": true,
            "type": "integer"
           },
           {
            "metadata": {},
            "name": "BNPPY2",
            "nullable": true,
            "type": "integer"
           },
           {
            "metadata": {},
            "name": "BNPP1",
            "nullable": true,
            "type": "integer"
           },
           {
            "metadata": {},
            "name": "BNP0",
            "nullable": true,
            "type": "integer"
           },
           {
            "metadata": {},
            "name": "BNP1",
            "nullable": true,
            "type": "integer"
           },
           {
            "metadata": {},
            "name": "BNP2",
            "nullable": true,
            "type": "integer"
           },
           {
            "metadata": {},
            "name": "BNP3",
            "nullable": true,
            "type": "integer"
           },
           {
            "metadata": {},
            "name": "BNP4",
            "nullable": true,
            "type": "integer"
           },
           {
            "metadata": {},
            "name": "BNP5",
            "nullable": true,
            "type": "integer"
           },
           {
            "metadata": {},
            "name": "BNP6",
            "nullable": true,
            "type": "integer"
           },
           {
            "metadata": {},
            "name": "BNP7",
            "nullable": true,
            "type": "integer"
           },
           {
            "metadata": {},
            "name": "BNP8",
            "nullable": true,
            "type": "integer"
           },
           {
            "metadata": {},
            "name": "BNP9",
            "nullable": true,
            "type": "integer"
           },
           {
            "metadata": {},
            "name": "BNP10",
            "nullable": true,
            "type": "integer"
           },
           {
            "metadata": {},
            "name": "BNP11",
            "nullable": true,
            "type": "integer"
           },
           {
            "metadata": {},
            "name": "BNP12",
            "nullable": true,
            "type": "integer"
           },
           {
            "metadata": {},
            "name": "BNP13",
            "nullable": true,
            "type": "integer"
           },
           {
            "metadata": {},
            "name": "BBINN",
            "nullable": true,
            "type": "string"
           },
           {
            "metadata": {},
            "name": "BBBCE",
            "nullable": true,
            "type": "integer"
           },
           {
            "metadata": {},
            "name": "BQBBD",
            "nullable": true,
            "type": "integer"
           },
           {
            "metadata": {},
            "name": "BQBBP",
            "nullable": true,
            "type": "integer"
           },
           {
            "metadata": {},
            "name": "BQSYD",
            "nullable": true,
            "type": "integer"
           },
           {
            "metadata": {},
            "name": "BQSLY",
            "nullable": true,
            "type": "integer"
           },
           {
            "metadata": {},
            "name": "BQSYB",
            "nullable": true,
            "type": "integer"
           },
           {
            "metadata": {},
            "name": "BQSP1",
            "nullable": true,
            "type": "integer"
           },
           {
            "metadata": {},
            "name": "BQS0",
            "nullable": true,
            "type": "integer"
           },
           {
            "metadata": {},
            "name": "BQS1",
            "nullable": true,
            "type": "integer"
           },
           {
            "metadata": {},
            "name": "BQS2",
            "nullable": true,
            "type": "integer"
           },
           {
            "metadata": {},
            "name": "BQS3",
            "nullable": true,
            "type": "integer"
           },
           {
            "metadata": {},
            "name": "BQS4",
            "nullable": true,
            "type": "integer"
           },
           {
            "metadata": {},
            "name": "BQS5",
            "nullable": true,
            "type": "integer"
           },
           {
            "metadata": {},
            "name": "BQS6",
            "nullable": true,
            "type": "integer"
           },
           {
            "metadata": {},
            "name": "BQS7",
            "nullable": true,
            "type": "integer"
           },
           {
            "metadata": {},
            "name": "BQS8",
            "nullable": true,
            "type": "integer"
           },
           {
            "metadata": {},
            "name": "BQS9",
            "nullable": true,
            "type": "integer"
           },
           {
            "metadata": {},
            "name": "BQS10",
            "nullable": true,
            "type": "integer"
           },
           {
            "metadata": {},
            "name": "BQS11",
            "nullable": true,
            "type": "integer"
           },
           {
            "metadata": {},
            "name": "BQS12",
            "nullable": true,
            "type": "integer"
           },
           {
            "metadata": {},
            "name": "BQS13",
            "nullable": true,
            "type": "integer"
           },
           {
            "metadata": {},
            "name": "BRAAY",
            "nullable": true,
            "type": "integer"
           },
           {
            "metadata": {},
            "name": "BRAAL",
            "nullable": true,
            "type": "integer"
           },
           {
            "metadata": {},
            "name": "BRASY",
            "nullable": true,
            "type": "integer"
           },
           {
            "metadata": {},
            "name": "BRASL",
            "nullable": true,
            "type": "integer"
           },
           {
            "metadata": {},
            "name": "BRANY",
            "nullable": true,
            "type": "integer"
           },
           {
            "metadata": {},
            "name": "BRANL",
            "nullable": true,
            "type": "integer"
           },
           {
            "metadata": {},
            "name": "BRMSY",
            "nullable": true,
            "type": "integer"
           },
           {
            "metadata": {},
            "name": "BRMSL",
            "nullable": true,
            "type": "integer"
           },
           {
            "metadata": {},
            "name": "BRMNY",
            "nullable": true,
            "type": "integer"
           },
           {
            "metadata": {},
            "name": "BRMNL",
            "nullable": true,
            "type": "integer"
           },
           {
            "metadata": {},
            "name": "BPRIO",
            "nullable": true,
            "type": "double"
           },
           {
            "metadata": {},
            "name": "BPRIA",
            "nullable": true,
            "type": "double"
           },
           {
            "metadata": {},
            "name": "BEPPA",
            "nullable": true,
            "type": "double"
           },
           {
            "metadata": {},
            "name": "BPRIS",
            "nullable": true,
            "type": "double"
           },
           {
            "metadata": {},
            "name": "BDTCR",
            "nullable": true,
            "type": "integer"
           },
           {
            "metadata": {},
            "name": "BDTFC",
            "nullable": true,
            "type": "integer"
           },
           {
            "metadata": {},
            "name": "BDTLR",
            "nullable": true,
            "type": "integer"
           },
           {
            "metadata": {},
            "name": "BDTBS",
            "nullable": true,
            "type": "integer"
           },
           {
            "metadata": {},
            "name": "BDTLS",
            "nullable": true,
            "type": "integer"
           },
           {
            "metadata": {},
            "name": "BDTSC",
            "nullable": true,
            "type": "integer"
           },
           {
            "metadata": {},
            "name": "BESS2",
            "nullable": true,
            "type": "integer"
           },
           {
            "metadata": {},
            "name": "BESS3",
            "nullable": true,
            "type": "integer"
           },
           {
            "metadata": {},
            "name": "BESS4",
            "nullable": true,
            "type": "integer"
           },
           {
            "metadata": {},
            "name": "BESS5",
            "nullable": true,
            "type": "integer"
           },
           {
            "metadata": {},
            "name": "BNBOC",
            "nullable": true,
            "type": "integer"
           },
           {
            "metadata": {},
            "name": "BPCTXT",
            "nullable": true,
            "type": "string"
           },
           {
            "metadata": {},
            "name": "BDTBB",
            "nullable": true,
            "type": "integer"
           },
           {
            "metadata": {},
            "name": "BHTST",
            "nullable": true,
            "type": "double"
           },
           {
            "metadata": {},
            "name": "BOVST",
            "nullable": true,
            "type": "double"
           },
           {
            "metadata": {},
            "name": "BDEST",
            "nullable": true,
            "type": "double"
           },
           {
            "metadata": {},
            "name": "BNGSI",
            "nullable": true,
            "type": "double"
           },
           {
            "metadata": {},
            "name": "BUNFC",
            "nullable": true,
            "type": "double"
           },
           {
            "metadata": {},
            "name": "BINCD",
            "nullable": true,
            "type": "string"
           },
           {
            "metadata": {},
            "name": "BSTCD",
            "nullable": true,
            "type": "string"
           },
           {
            "metadata": {},
            "name": "BQTRT",
            "nullable": true,
            "type": "integer"
           },
           {
            "metadata": {},
            "name": "BSDLN",
            "nullable": true,
            "type": "double"
           },
           {
            "metadata": {},
            "name": "BNAOL",
            "nullable": true,
            "type": "integer"
           },
           {
            "metadata": {},
            "name": "BNMOL",
            "nullable": true,
            "type": "integer"
           },
           {
            "metadata": {},
            "name": "BNDL",
            "nullable": true,
            "type": "integer"
           },
           {
            "metadata": {},
            "name": "BCMPC",
            "nullable": true,
            "type": "integer"
           },
           {
            "metadata": {},
            "name": "BDSTS",
            "nullable": true,
            "type": "integer"
           },
           {
            "metadata": {},
            "name": "BCDRG",
            "nullable": true,
            "type": "integer"
           },
           {
            "metadata": {},
            "name": "BPLOC",
            "nullable": true,
            "type": "string"
           },
           {
            "metadata": {},
            "name": "BPLMA",
            "nullable": true,
            "type": "string"
           },
           {
            "metadata": {},
            "name": "BSBLC",
            "nullable": true,
            "type": "integer"
           },
           {
            "metadata": {},
            "name": "BCODE1",
            "nullable": true,
            "type": "string"
           },
           {
            "metadata": {},
            "name": "BCODE2",
            "nullable": true,
            "type": "string"
           },
           {
            "metadata": {},
            "name": "BCODE3",
            "nullable": true,
            "type": "string"
           },
           {
            "metadata": {},
            "name": "BCODE4",
            "nullable": true,
            "type": "integer"
           },
           {
            "metadata": {},
            "name": "BCODE5",
            "nullable": true,
            "type": "string"
           },
           {
            "metadata": {},
            "name": "BFFCSD",
            "nullable": true,
            "type": "integer"
           },
           {
            "metadata": {},
            "name": "BFFCED",
            "nullable": true,
            "type": "integer"
           },
           {
            "metadata": {},
            "name": "BWESEA",
            "nullable": true,
            "type": "integer"
           },
           {
            "metadata": {},
            "name": "BVOSEA",
            "nullable": true,
            "type": "double"
           },
           {
            "metadata": {},
            "name": "BFRPRI",
            "nullable": true,
            "type": "double"
           },
           {
            "metadata": {},
            "name": "BWHRH",
            "nullable": true,
            "type": "string"
           },
           {
            "metadata": {},
            "name": "BAQFC",
            "nullable": true,
            "type": "double"
           },
           {
            "metadata": {},
            "name": "BASB",
            "nullable": true,
            "type": "integer"
           },
           {
            "metadata": {},
            "name": "BQBP",
            "nullable": true,
            "type": "integer"
           },
           {
            "metadata": {},
            "name": "BQFCP1",
            "nullable": true,
            "type": "double"
           },
           {
            "metadata": {},
            "name": "BQFCP2",
            "nullable": true,
            "type": "double"
           },
           {
            "metadata": {},
            "name": "BQFCP3",
            "nullable": true,
            "type": "double"
           },
           {
            "metadata": {},
            "name": "BQFCP4",
            "nullable": true,
            "type": "double"
           },
           {
            "metadata": {},
            "name": "BQFCP5",
            "nullable": true,
            "type": "double"
           },
           {
            "metadata": {},
            "name": "BQFCP6",
            "nullable": true,
            "type": "double"
           },
           {
            "metadata": {},
            "name": "BQFCP7",
            "nullable": true,
            "type": "double"
           },
           {
            "metadata": {},
            "name": "BQFCP8",
            "nullable": true,
            "type": "double"
           },
           {
            "metadata": {},
            "name": "BQFCP9",
            "nullable": true,
            "type": "double"
           },
           {
            "metadata": {},
            "name": "BQFCP10",
            "nullable": true,
            "type": "double"
           },
           {
            "metadata": {},
            "name": "BQFCP11",
            "nullable": true,
            "type": "double"
           },
           {
            "metadata": {},
            "name": "BQFC1",
            "nullable": true,
            "type": "double"
           },
           {
            "metadata": {},
            "name": "BQFC2",
            "nullable": true,
            "type": "double"
           },
           {
            "metadata": {},
            "name": "BQFC3",
            "nullable": true,
            "type": "double"
           },
           {
            "metadata": {},
            "name": "BQFC4",
            "nullable": true,
            "type": "double"
           },
           {
            "metadata": {},
            "name": "BQFC5",
            "nullable": true,
            "type": "double"
           },
           {
            "metadata": {},
            "name": "BQFC6",
            "nullable": true,
            "type": "double"
           },
           {
            "metadata": {},
            "name": "BQFC7",
            "nullable": true,
            "type": "double"
           },
           {
            "metadata": {},
            "name": "BQFC8",
            "nullable": true,
            "type": "double"
           },
           {
            "metadata": {},
            "name": "BQFC9",
            "nullable": true,
            "type": "double"
           },
           {
            "metadata": {},
            "name": "BQFC10",
            "nullable": true,
            "type": "double"
           },
           {
            "metadata": {},
            "name": "BQFC11",
            "nullable": true,
            "type": "double"
           },
           {
            "metadata": {},
            "name": "BQFC12",
            "nullable": true,
            "type": "double"
           },
           {
            "metadata": {},
            "name": "BFCMD0",
            "nullable": true,
            "type": "string"
           },
           {
            "metadata": {},
            "name": "BFCMD1",
            "nullable": true,
            "type": "string"
           },
           {
            "metadata": {},
            "name": "BFCMD2",
            "nullable": true,
            "type": "string"
           },
           {
            "metadata": {},
            "name": "BFCMD3",
            "nullable": true,
            "type": "string"
           },
           {
            "metadata": {},
            "name": "BFCMD4",
            "nullable": true,
            "type": "string"
           },
           {
            "metadata": {},
            "name": "BFCMD5",
            "nullable": true,
            "type": "string"
           },
           {
            "metadata": {},
            "name": "BFCMD6",
            "nullable": true,
            "type": "string"
           },
           {
            "metadata": {},
            "name": "BFCMD7",
            "nullable": true,
            "type": "string"
           },
           {
            "metadata": {},
            "name": "BFCMD8",
            "nullable": true,
            "type": "string"
           },
           {
            "metadata": {},
            "name": "BFCMD9",
            "nullable": true,
            "type": "string"
           },
           {
            "metadata": {},
            "name": "BFCMD10",
            "nullable": true,
            "type": "string"
           },
           {
            "metadata": {},
            "name": "BFCMD11",
            "nullable": true,
            "type": "string"
           },
           {
            "metadata": {},
            "name": "BFCMD12",
            "nullable": true,
            "type": "string"
           },
           {
            "metadata": {},
            "name": "BTRSL",
            "nullable": true,
            "type": "double"
           },
           {
            "metadata": {},
            "name": "BSCVR",
            "nullable": true,
            "type": "double"
           },
           {
            "metadata": {},
            "name": "BTCVR",
            "nullable": true,
            "type": "double"
           },
           {
            "metadata": {},
            "name": "BMAD",
            "nullable": true,
            "type": "double"
           },
           {
            "metadata": {},
            "name": "BMD",
            "nullable": true,
            "type": "double"
           },
           {
            "metadata": {},
            "name": "BLKMD",
            "nullable": true,
            "type": "string"
           },
           {
            "metadata": {},
            "name": "BDTLM",
            "nullable": true,
            "type": "integer"
           },
           {
            "metadata": {},
            "name": "BNPC",
            "nullable": true,
            "type": "integer"
           },
           {
            "metadata": {},
            "name": "BFMFL",
            "nullable": true,
            "type": "string"
           },
           {
            "metadata": {},
            "name": "BDTIA",
            "nullable": true,
            "type": "integer"
           },
           {
            "metadata": {},
            "name": "BDTPA",
            "nullable": true,
            "type": "integer"
           },
           {
            "metadata": {},
            "name": "BFCTMP",
            "nullable": true,
            "type": "double"
           },
           {
            "metadata": {},
            "name": "BISFL",
            "nullable": true,
            "type": "string"
           },
           {
            "metadata": {},
            "name": "BHSNP",
            "nullable": true,
            "type": "integer"
           },
           {
            "metadata": {},
            "name": "BBVP0",
            "nullable": true,
            "type": "double"
           },
           {
            "metadata": {},
            "name": "BBVP1",
            "nullable": true,
            "type": "double"
           },
           {
            "metadata": {},
            "name": "BTVP0",
            "nullable": true,
            "type": "double"
           },
           {
            "metadata": {},
            "name": "BTVP1",
            "nullable": true,
            "type": "double"
           },
           {
            "metadata": {},
            "name": "BSVP0",
            "nullable": true,
            "type": "double"
           },
           {
            "metadata": {},
            "name": "BSVP1",
            "nullable": true,
            "type": "double"
           },
           {
            "metadata": {},
            "name": "BSVP2",
            "nullable": true,
            "type": "double"
           },
           {
            "metadata": {},
            "name": "BSVP3",
            "nullable": true,
            "type": "double"
           },
           {
            "metadata": {},
            "name": "BSVP4",
            "nullable": true,
            "type": "double"
           },
           {
            "metadata": {},
            "name": "BSVP5",
            "nullable": true,
            "type": "double"
           },
           {
            "metadata": {},
            "name": "BSVP6",
            "nullable": true,
            "type": "double"
           },
           {
            "metadata": {},
            "name": "BSVP7",
            "nullable": true,
            "type": "double"
           },
           {
            "metadata": {},
            "name": "BSVP8",
            "nullable": true,
            "type": "double"
           },
           {
            "metadata": {},
            "name": "BSVP9",
            "nullable": true,
            "type": "double"
           },
           {
            "metadata": {},
            "name": "BSVP10",
            "nullable": true,
            "type": "double"
           },
           {
            "metadata": {},
            "name": "BSVP11",
            "nullable": true,
            "type": "double"
           },
           {
            "metadata": {},
            "name": "BSVP12",
            "nullable": true,
            "type": "double"
           },
           {
            "metadata": {},
            "name": "BQPAL",
            "nullable": true,
            "type": "integer"
           },
           {
            "metadata": {},
            "name": "BQMIN",
            "nullable": true,
            "type": "integer"
           },
           {
            "metadata": {},
            "name": "BDTLC",
            "nullable": true,
            "type": "integer"
           },
           {
            "metadata": {},
            "name": "BDTLO",
            "nullable": true,
            "type": "integer"
           },
           {
            "metadata": {},
            "name": "BDTSE",
            "nullable": true,
            "type": "integer"
           },
           {
            "metadata": {},
            "name": "BFIMD",
            "nullable": true,
            "type": "integer"
           },
           {
            "metadata": {},
            "name": "Library",
            "nullable": true,
            "type": "string"
           }
          ],
          "type": "struct"
         },
         "tableIdentifier": null,
         "typeStr": "pyspark.sql.dataframe.DataFrame"
        }
       ],
       "metadata": {},
       "removedWidgets": [],
       "type": "html"
      }
     },
     "output_type": "display_data"
    }
   ],
   "source": [
    "# Change code as needed\n",
    "df_R3F002 = ks.read_csv('/dim-p/SE_Sample_Data.csv',sep = \"_\")\n",
    "df_R3F002.createOrReplaceTempView(\"SE_Sample_Data\")"
   ]
  },
  {
   "cell_type": "code",
   "execution_count": 0,
   "metadata": {
    "application/vnd.databricks.v1+cell": {
     "inputWidgets": {},
     "nuid": "32abf531-8e01-4062-8fc2-63678ce1cf77",
     "showTitle": false,
     "title": ""
    }
   },
   "outputs": [
    {
     "data": {
      "text/html": [
       "<style scoped>\n",
       "  .ansiout {\n",
       "    display: block;\n",
       "    unicode-bidi: embed;\n",
       "    white-space: pre-wrap;\n",
       "    word-wrap: break-word;\n",
       "    word-break: break-all;\n",
       "    font-family: \"Source Code Pro\", \"Menlo\", monospace;;\n",
       "    font-size: 13px;\n",
       "    color: #555;\n",
       "    margin-left: 4px;\n",
       "    line-height: 19px;\n",
       "  }\n",
       "</style>\n",
       "<div class=\"ansiout\"></div>"
      ]
     },
     "metadata": {
      "application/vnd.databricks.v1+output": {
       "addedWidgets": {},
       "arguments": {},
       "data": "<div class=\"ansiout\"></div>",
       "datasetInfos": [
        {
         "name": "df_R3F002",
         "schema": {
          "fields": [
           {
            "metadata": {},
            "name": "DealerDistrictKey",
            "nullable": false,
            "type": "string"
           },
           {
            "metadata": {},
            "name": "InfluenceOnServiceIndex",
            "nullable": true,
            "type": "double"
           },
           {
            "metadata": {},
            "name": "Dealer",
            "nullable": true,
            "type": "string"
           },
           {
            "metadata": {},
            "name": "District",
            "nullable": true,
            "type": "integer"
           },
           {
            "metadata": {},
            "name": "MovementCode",
            "nullable": true,
            "type": "integer"
           },
           {
            "metadata": {},
            "name": "PurchaseCode",
            "nullable": true,
            "type": "integer"
           },
           {
            "metadata": {},
            "name": "FrequencyClass",
            "nullable": true,
            "type": "string"
           },
           {
            "metadata": {},
            "name": "PriceClass",
            "nullable": true,
            "type": "integer"
           },
           {
            "metadata": {},
            "name": "CompanyCode",
            "nullable": true,
            "type": "integer"
           },
           {
            "metadata": {},
            "name": "DateOfForecastRecalc",
            "nullable": true,
            "type": "integer"
           },
           {
            "metadata": {},
            "name": "ForecastMethodM00",
            "nullable": true,
            "type": "string"
           },
           {
            "metadata": {},
            "name": "ForecastMethodM01",
            "nullable": true,
            "type": "string"
           },
           {
            "metadata": {},
            "name": "ForecastMethodM02",
            "nullable": true,
            "type": "string"
           },
           {
            "metadata": {},
            "name": "ForecastMethodM03",
            "nullable": true,
            "type": "string"
           },
           {
            "metadata": {},
            "name": "ForecastMethodM04",
            "nullable": true,
            "type": "string"
           },
           {
            "metadata": {},
            "name": "ForecastMethodM05",
            "nullable": true,
            "type": "string"
           },
           {
            "metadata": {},
            "name": "ForecastMethodM06",
            "nullable": true,
            "type": "string"
           },
           {
            "metadata": {},
            "name": "ForecastMethodM07",
            "nullable": true,
            "type": "string"
           },
           {
            "metadata": {},
            "name": "ForecastMethodM08",
            "nullable": true,
            "type": "string"
           },
           {
            "metadata": {},
            "name": "ForecastMethodM09",
            "nullable": true,
            "type": "string"
           },
           {
            "metadata": {},
            "name": "ForecastMethodM10",
            "nullable": true,
            "type": "string"
           },
           {
            "metadata": {},
            "name": "ForecastMethodM11",
            "nullable": true,
            "type": "string"
           },
           {
            "metadata": {},
            "name": "ForecastMethodM12",
            "nullable": true,
            "type": "string"
           },
           {
            "metadata": {},
            "name": "ForecastFreezeCounter",
            "nullable": true,
            "type": "integer"
           },
           {
            "metadata": {},
            "name": "HighSalesNoPeriodCounter",
            "nullable": true,
            "type": "integer"
           },
           {
            "metadata": {},
            "name": "InfoCode",
            "nullable": true,
            "type": "string"
           },
           {
            "metadata": {},
            "name": "PicksR12",
            "nullable": true,
            "type": "integer"
           },
           {
            "metadata": {},
            "name": "NoOfPicksPerM00",
            "nullable": true,
            "type": "integer"
           },
           {
            "metadata": {},
            "name": "NoOfPicksPerM01",
            "nullable": true,
            "type": "integer"
           },
           {
            "metadata": {},
            "name": "NoOfPicksPerM02",
            "nullable": true,
            "type": "integer"
           },
           {
            "metadata": {},
            "name": "NoOfPicksPerM03",
            "nullable": true,
            "type": "integer"
           },
           {
            "metadata": {},
            "name": "NoOfPicksPerM04",
            "nullable": true,
            "type": "integer"
           },
           {
            "metadata": {},
            "name": "NoOfPicksPerM05",
            "nullable": true,
            "type": "integer"
           },
           {
            "metadata": {},
            "name": "NoOfPicksPerM06",
            "nullable": true,
            "type": "integer"
           },
           {
            "metadata": {},
            "name": "NoOfPicksPerM07",
            "nullable": true,
            "type": "integer"
           },
           {
            "metadata": {},
            "name": "NoOfPicksPerM08",
            "nullable": true,
            "type": "integer"
           },
           {
            "metadata": {},
            "name": "NoOfPicksPerM09",
            "nullable": true,
            "type": "integer"
           },
           {
            "metadata": {},
            "name": "NoOfPicksPerM10",
            "nullable": true,
            "type": "integer"
           },
           {
            "metadata": {},
            "name": "NoOfPicksPerM11",
            "nullable": true,
            "type": "integer"
           },
           {
            "metadata": {},
            "name": "NoOfPicksPerM12",
            "nullable": true,
            "type": "integer"
           },
           {
            "metadata": {},
            "name": "NoOfPicksPerM13",
            "nullable": true,
            "type": "integer"
           },
           {
            "metadata": {},
            "name": "NewPartCode",
            "nullable": true,
            "type": "integer"
           },
           {
            "metadata": {},
            "name": "OrderPoint",
            "nullable": true,
            "type": "integer"
           },
           {
            "metadata": {},
            "name": "PurchaseCodeText",
            "nullable": true,
            "type": "string"
           },
           {
            "metadata": {},
            "name": "PartPrefix",
            "nullable": true,
            "type": "string"
           },
           {
            "metadata": {},
            "name": "Price",
            "nullable": true,
            "type": "double"
           },
           {
            "metadata": {},
            "name": "PartNumber",
            "nullable": true,
            "type": "string"
           },
           {
            "metadata": {},
            "name": "ForecastPM00",
            "nullable": true,
            "type": "double"
           },
           {
            "metadata": {},
            "name": "ForecastPM01",
            "nullable": true,
            "type": "double"
           },
           {
            "metadata": {},
            "name": "ForecastPM02",
            "nullable": true,
            "type": "double"
           },
           {
            "metadata": {},
            "name": "ForecastPM03",
            "nullable": true,
            "type": "double"
           },
           {
            "metadata": {},
            "name": "ForecastPM04",
            "nullable": true,
            "type": "double"
           },
           {
            "metadata": {},
            "name": "ForecastPM05",
            "nullable": true,
            "type": "double"
           },
           {
            "metadata": {},
            "name": "ForecastPM06",
            "nullable": true,
            "type": "double"
           },
           {
            "metadata": {},
            "name": "ForecastPM07",
            "nullable": true,
            "type": "double"
           },
           {
            "metadata": {},
            "name": "ForecastPM08",
            "nullable": true,
            "type": "double"
           },
           {
            "metadata": {},
            "name": "ForecastPM09",
            "nullable": true,
            "type": "double"
           },
           {
            "metadata": {},
            "name": "ForecastPM10",
            "nullable": true,
            "type": "double"
           },
           {
            "metadata": {},
            "name": "ForecastPM11",
            "nullable": true,
            "type": "double"
           },
           {
            "metadata": {},
            "name": "ForecastPM12",
            "nullable": true,
            "type": "double"
           },
           {
            "metadata": {},
            "name": "ForecastCurrentValue",
            "nullable": true,
            "type": "double"
           },
           {
            "metadata": {},
            "name": "AvgSalesR12",
            "nullable": true,
            "type": "double"
           },
           {
            "metadata": {},
            "name": "SalesPM00",
            "nullable": true,
            "type": "integer"
           },
           {
            "metadata": {},
            "name": "SalesPM01",
            "nullable": true,
            "type": "integer"
           },
           {
            "metadata": {},
            "name": "SalesPM02",
            "nullable": true,
            "type": "integer"
           },
           {
            "metadata": {},
            "name": "SalesPM03",
            "nullable": true,
            "type": "integer"
           },
           {
            "metadata": {},
            "name": "SalesPM04",
            "nullable": true,
            "type": "integer"
           },
           {
            "metadata": {},
            "name": "SalesPM05",
            "nullable": true,
            "type": "integer"
           },
           {
            "metadata": {},
            "name": "SalesPM06",
            "nullable": true,
            "type": "integer"
           },
           {
            "metadata": {},
            "name": "SalesPM07",
            "nullable": true,
            "type": "integer"
           },
           {
            "metadata": {},
            "name": "SalesPM08",
            "nullable": true,
            "type": "integer"
           },
           {
            "metadata": {},
            "name": "SalesPM09",
            "nullable": true,
            "type": "integer"
           },
           {
            "metadata": {},
            "name": "SalesPM10",
            "nullable": true,
            "type": "integer"
           },
           {
            "metadata": {},
            "name": "SalesPM11",
            "nullable": true,
            "type": "integer"
           },
           {
            "metadata": {},
            "name": "SalesPM12",
            "nullable": true,
            "type": "integer"
           },
           {
            "metadata": {},
            "name": "SalesPM13",
            "nullable": true,
            "type": "integer"
           },
           {
            "metadata": {},
            "name": "ReplacedCode",
            "nullable": true,
            "type": "integer"
           },
           {
            "metadata": {},
            "name": "ReplacingCode",
            "nullable": true,
            "type": "integer"
           },
           {
            "metadata": {},
            "name": "StockBalanceQty",
            "nullable": true,
            "type": "integer"
           },
           {
            "metadata": {},
            "name": "SupplierGroup",
            "nullable": true,
            "type": "integer"
           },
           {
            "metadata": {},
            "name": "TrackingSignal",
            "nullable": true,
            "type": "double"
           }
          ],
          "type": "struct"
         },
         "tableIdentifier": null,
         "typeStr": "pyspark.sql.dataframe.DataFrame"
        }
       ],
       "metadata": {},
       "removedWidgets": [],
       "type": "html"
      }
     },
     "output_type": "display_data"
    }
   ],
   "source": [
    "# Change code as needed\n",
    "df_R3F002 = spark.sql(\"\"\"\n",
    "  SELECT\n",
    "    CONCAT_WS('_', RIGHT(CONCAT_WS('', '0000000000', BDLNO), 10), RIGHT(CONCAT_WS('', '0000000000', BDSTS), 10)) as DealerDistrictKey,\n",
    "    BNGSI as InfluenceOnServiceIndex,\n",
    "    BDLNO as Dealer,\n",
    "    BDSTS as District,\n",
    "    BCDMO as MovementCode,   \n",
    "    BCDPU as PurchaseCode,\n",
    "    BCLFR as FrequencyClass,\n",
    "    BCLPR as PriceClass ,\n",
    "    BCMPC as CompanyCode,\n",
    "    BDTFC as DateOfForecastRecalc,\n",
    "    BFCMD0 as ForecastMethodM00,\n",
    "    BFCMD1 as ForecastMethodM01,\n",
    "    BFCMD2 as ForecastMethodM02,\n",
    "    BFCMD3 as ForecastMethodM03,\n",
    "    BFCMD4 as ForecastMethodM04,\n",
    "    BFCMD5 as ForecastMethodM05,\n",
    "    BFCMD6 as ForecastMethodM06,\n",
    "    BFCMD7 as ForecastMethodM07,\n",
    "    BFCMD8 as ForecastMethodM08,\n",
    "    BFCMD9 as ForecastMethodM09,\n",
    "    BFCMD10 as ForecastMethodM10,\n",
    "    BFCMD11 as ForecastMethodM11,\n",
    "    BFCMD12 as ForecastMethodM12,\n",
    "    BFFCO as ForecastFreezeCounter,\n",
    "    BHSNP as HighSalesNoPeriodCounter,\n",
    "    BINCD as InfoCode,\n",
    "    (BNP1+BNP2+BNP3+BNP4+BNP5+BNP6+BNP7+BNP8+BNP9+BNP10+BNP11+BNP12) as PicksR12,\n",
    "    BNP0 as NoOfPicksPerM00,\n",
    "    BNP1 as NoOfPicksPerM01,\n",
    "    BNP2 as NoOfPicksPerM02,\n",
    "    BNP3 as NoOfPicksPerM03,\n",
    "    BNP4 as NoOfPicksPerM04,\n",
    "    BNP5 as NoOfPicksPerM05,\n",
    "    BNP6 as NoOfPicksPerM06,\n",
    "    BNP7 as NoOfPicksPerM07,\n",
    "    BNP8 as NoOfPicksPerM08,\n",
    "    BNP9 as NoOfPicksPerM09,\n",
    "    BNP10 as NoOfPicksPerM10,\n",
    "    BNP11 as NoOfPicksPerM11,\n",
    "    BNP12 as NoOfPicksPerM12,\n",
    "    BNP13 as NoOfPicksPerM13,\n",
    "    BNPC as NewPartCode,\n",
    "    BOPP  as OrderPoint, \n",
    "    BPCTXT as PurchaseCodeText,\n",
    "    BPPRF as PartPrefix,\n",
    "    BPRIS as Price,\n",
    "    BPRTN as PartNumber,\n",
    "    BQFC as ForecastPM00,\n",
    "    BQFC1 as ForecastPM01,\n",
    "    BQFC2 as ForecastPM02,\n",
    "    BQFC3 as ForecastPM03,\n",
    "    BQFC4 as ForecastPM04,\n",
    "    BQFC5 as ForecastPM05\n",
    "    BQFC6 as ForecastPM06,\n",
    "    BQFC7 as ForecastPM07,\n",
    "    BQFC8 as ForecastPM08,\n",
    "    BQFC9 as ForecastPM09,\n",
    "    BQFC10 as ForecastPM10,\n",
    "    BQFC11 as ForecastPM11,\n",
    "    BQFC12 as ForecastPM12,\n",
    "    (BQFC*BPRIS) as ForecastCurrentValue,\n",
    "    ((BQS1+BQS2+BQS3+BQS4+BQS5+BQS6+BQS7+BQS8+BQS9+BQS10+BQS11+BQS12)/12) as AvgSalesR12\n",
    "    BQS0 as SalesPM00,         \n",
    "    BQS1 as SalesPM01,\n",
    "    BQS2 as SalesPM02,\n",
    "    BQS3 as SalesPM03,\n",
    "    BQS4 as SalesPM04,\n",
    "    BQS5 as SalesPM05,\n",
    "    BQS6 as SalesPM06,\n",
    "    BQS7 as SalesPM07,\n",
    "    BQS8 as SalesPM08,\n",
    "    BQS9 as SalesPM09,\n",
    "    BQS10 as SalesPM10,\n",
    "    BQS11 as SalesPM11,\n",
    "    BQS12 as SalesPM12,\n",
    "    BQS13 as SalesPM13,\n",
    "    BRPED as ReplacedCode,\n",
    "    BRPNG as ReplacingCode, \n",
    "    BSTBA as StockBalanceQty,\n",
    "    BSUGR as SupplierGroup,\n",
    "    BTRSL as TrackingSignal,\n",
    "  FROM \n",
    "    R3F002\n",
    "  WHERE   \n",
    "    (BQFC+BQFC1+BQFC2+BQFC3+BQFC4+BQFC5+BQFC6+BQFC7+BQFC8+BQFC9+BQFC10+BQFC11+BQFC12)>0\n",
    "    AND (BQS0+BQS1+BQS2+BQS3+BQS4+BQS5+BQS6+BQS7+BQS8+BQS9+BQS10+BQS11+BQS12)>0\n",
    "    AND BSUGR IN ('0','1','2','3','4','5','6','7','8')\n",
    "    AND BPPRF IN ('VO','RT','MK','VOP','BRA')\n",
    "\"\"\")\n",
    "df_R3F002.createOrReplaceTempView(\"tv_R3F002\")"
   ]
  },
  {
   "cell_type": "code",
   "execution_count": 0,
   "metadata": {
    "application/vnd.databricks.v1+cell": {
     "inputWidgets": {},
     "nuid": "1dd96c2c-ca7c-4956-8f6e-748d65823355",
     "showTitle": false,
     "title": ""
    }
   },
   "outputs": [
    {
     "data": {
      "text/html": [
       "<style scoped>\n",
       "  .ansiout {\n",
       "    display: block;\n",
       "    unicode-bidi: embed;\n",
       "    white-space: pre-wrap;\n",
       "    word-wrap: break-word;\n",
       "    word-break: break-all;\n",
       "    font-family: \"Source Code Pro\", \"Menlo\", monospace;;\n",
       "    font-size: 13px;\n",
       "    color: #555;\n",
       "    margin-left: 4px;\n",
       "    line-height: 19px;\n",
       "  }\n",
       "</style>\n",
       "<div class=\"ansiout\"></div>"
      ]
     },
     "metadata": {
      "application/vnd.databricks.v1+output": {
       "addedWidgets": {},
       "arguments": {},
       "data": "<div class=\"ansiout\"></div>",
       "datasetInfos": [
        {
         "name": "df_R3F015",
         "schema": {
          "fields": [
           {
            "metadata": {},
            "name": "DealerDistrictKey",
            "nullable": false,
            "type": "string"
           },
           {
            "metadata": {},
            "name": "Dealer",
            "nullable": true,
            "type": "string"
           },
           {
            "metadata": {},
            "name": "District",
            "nullable": true,
            "type": "integer"
           },
           {
            "metadata": {},
            "name": "CurrencyCode",
            "nullable": true,
            "type": "string"
           },
           {
            "metadata": {},
            "name": "LPADealer",
            "nullable": true,
            "type": "string"
           },
           {
            "metadata": {},
            "name": "CountryCode",
            "nullable": true,
            "type": "string"
           },
           {
            "metadata": {},
            "name": "IgnoreSeasonalTest",
            "nullable": false,
            "type": "string"
           }
          ],
          "type": "struct"
         },
         "tableIdentifier": null,
         "typeStr": "pyspark.sql.dataframe.DataFrame"
        }
       ],
       "metadata": {},
       "removedWidgets": [],
       "type": "html"
      }
     },
     "output_type": "display_data"
    }
   ],
   "source": [
    "# Change code as needed\n",
    "df_R3F015 = ks.read_csv('/mnt/dim-followup/ForecastTool/R3F015.csv',sep = \";\")\n",
    "df_R3F015.createOrReplaceTempView(\"R3F015\")\n",
    "df_R3F015 = spark.sql(\"\"\"\n",
    "  SELECT\n",
    "    CONCAT_WS('_',RIGHT(CONCAT_WS('', '0000000000', PDLNO), 10), RIGHT(CONCAT_WS('', '0000000000', PDSTS), 10)) as DealerDistrictKey,\n",
    "    PDLNO as Dealer,\n",
    "    PDSTS as District,\n",
    "    PCUR as CurrencyCode,\n",
    "    PLPA as LPADealer,\n",
    "    PCCODE as CountryCode,\n",
    "    If(PISFL='Y', 'Y', 'N') as IgnoreSeasonalTest\n",
    "  FROM \n",
    "    R3F015\n",
    "  WHERE\n",
    "    length(PCCODE)>0 AND  length(PCUR)>0 AND PLIFT ='Y'\n",
    "\"\"\")\n",
    "df_R3F015.createOrReplaceTempView(\"tv_R3F015\")"
   ]
  },
  {
   "cell_type": "code",
   "execution_count": 0,
   "metadata": {
    "application/vnd.databricks.v1+cell": {
     "inputWidgets": {},
     "nuid": "a47607a0-18c4-42fa-be2a-4e2566b84703",
     "showTitle": false,
     "title": ""
    }
   },
   "outputs": [
    {
     "data": {
      "text/html": [
       "<style scoped>\n",
       "  .ansiout {\n",
       "    display: block;\n",
       "    unicode-bidi: embed;\n",
       "    white-space: pre-wrap;\n",
       "    word-wrap: break-word;\n",
       "    word-break: break-all;\n",
       "    font-family: \"Source Code Pro\", \"Menlo\", monospace;;\n",
       "    font-size: 13px;\n",
       "    color: #555;\n",
       "    margin-left: 4px;\n",
       "    line-height: 19px;\n",
       "  }\n",
       "</style>\n",
       "<div class=\"ansiout\"></div>"
      ]
     },
     "metadata": {
      "application/vnd.databricks.v1+output": {
       "addedWidgets": {},
       "arguments": {},
       "data": "<div class=\"ansiout\"></div>",
       "datasetInfos": [
        {
         "name": "df_DealerCurrency",
         "schema": {
          "fields": [
           {
            "metadata": {},
            "name": "CurrencyCode",
            "nullable": true,
            "type": "string"
           },
           {
            "metadata": {},
            "name": "CurrencyRate",
            "nullable": true,
            "type": "string"
           }
          ],
          "type": "struct"
         },
         "tableIdentifier": null,
         "typeStr": "pyspark.sql.dataframe.DataFrame"
        }
       ],
       "metadata": {},
       "removedWidgets": [],
       "type": "html"
      }
     },
     "output_type": "display_data"
    }
   ],
   "source": [
    "# Change code as needed\n",
    "df_DealerCurrency = ks.read_csv('/mnt/dim-followup/ForecastTool/DealerCurrency.csv',sep = \"|\")\n",
    "df_DealerCurrency = df_DealerCurrency.to_spark()\n",
    "df_DealerCurrency.createOrReplaceTempView(\"DealerCurrency\")\n",
    "df_DealerCurrency = spark.sql(\"\"\"\n",
    "  SELECT\n",
    "    DealerCurrency.PCUR as CurrencyCode,\n",
    "    Replace(DealerCurrency.`Currency_Rate`, ',', '.') as CurrencyRate\n",
    "  FROM \n",
    "    DealerCurrency\n",
    "\"\"\")\n",
    "df_DealerCurrency.createOrReplaceTempView(\"tv_DealerCurrency\")"
   ]
  },
  {
   "cell_type": "code",
   "execution_count": 0,
   "metadata": {
    "application/vnd.databricks.v1+cell": {
     "inputWidgets": {},
     "nuid": "a729a593-12c8-4163-a295-8ffc4de641d7",
     "showTitle": false,
     "title": ""
    }
   },
   "outputs": [
    {
     "data": {
      "text/html": [
       "<style scoped>\n",
       "  .ansiout {\n",
       "    display: block;\n",
       "    unicode-bidi: embed;\n",
       "    white-space: pre-wrap;\n",
       "    word-wrap: break-word;\n",
       "    word-break: break-all;\n",
       "    font-family: \"Source Code Pro\", \"Menlo\", monospace;;\n",
       "    font-size: 13px;\n",
       "    color: #555;\n",
       "    margin-left: 4px;\n",
       "    line-height: 19px;\n",
       "  }\n",
       "</style>\n",
       "<div class=\"ansiout\"></div>"
      ]
     },
     "metadata": {
      "application/vnd.databricks.v1+output": {
       "addedWidgets": {},
       "arguments": {},
       "data": "<div class=\"ansiout\"></div>",
       "datasetInfos": [
        {
         "name": "df_R3F002_R3F015_DealerCurrency",
         "schema": {
          "fields": [
           {
            "metadata": {},
            "name": "DealerDistrictKey",
            "nullable": false,
            "type": "string"
           },
           {
            "metadata": {},
            "name": "DealerDistrictPartNumberKey",
            "nullable": false,
            "type": "string"
           },
           {
            "metadata": {},
            "name": "InfluenceOnServiceIndex",
            "nullable": true,
            "type": "double"
           },
           {
            "metadata": {},
            "name": "Dealer",
            "nullable": true,
            "type": "string"
           },
           {
            "metadata": {},
            "name": "District",
            "nullable": true,
            "type": "integer"
           },
           {
            "metadata": {},
            "name": "MovementCode",
            "nullable": true,
            "type": "integer"
           },
           {
            "metadata": {},
            "name": "PurchaseCode",
            "nullable": true,
            "type": "integer"
           },
           {
            "metadata": {},
            "name": "FrequencyClass",
            "nullable": true,
            "type": "string"
           },
           {
            "metadata": {},
            "name": "PriceClass",
            "nullable": true,
            "type": "integer"
           },
           {
            "metadata": {},
            "name": "CompanyCode",
            "nullable": true,
            "type": "integer"
           },
           {
            "metadata": {},
            "name": "DateOfForecastRecalc",
            "nullable": true,
            "type": "integer"
           },
           {
            "metadata": {},
            "name": "ForecastMethodM00",
            "nullable": true,
            "type": "string"
           },
           {
            "metadata": {},
            "name": "ForecastMethodM01",
            "nullable": true,
            "type": "string"
           },
           {
            "metadata": {},
            "name": "ForecastMethodM02",
            "nullable": true,
            "type": "string"
           },
           {
            "metadata": {},
            "name": "ForecastMethodM03",
            "nullable": true,
            "type": "string"
           },
           {
            "metadata": {},
            "name": "ForecastMethodM04",
            "nullable": true,
            "type": "string"
           },
           {
            "metadata": {},
            "name": "ForecastMethodM05",
            "nullable": true,
            "type": "string"
           },
           {
            "metadata": {},
            "name": "ForecastMethodM06",
            "nullable": true,
            "type": "string"
           },
           {
            "metadata": {},
            "name": "ForecastMethodM07",
            "nullable": true,
            "type": "string"
           },
           {
            "metadata": {},
            "name": "ForecastMethodM08",
            "nullable": true,
            "type": "string"
           },
           {
            "metadata": {},
            "name": "ForecastMethodM09",
            "nullable": true,
            "type": "string"
           },
           {
            "metadata": {},
            "name": "ForecastMethodM10",
            "nullable": true,
            "type": "string"
           },
           {
            "metadata": {},
            "name": "ForecastMethodM11",
            "nullable": true,
            "type": "string"
           },
           {
            "metadata": {},
            "name": "ForecastMethodM12",
            "nullable": true,
            "type": "string"
           },
           {
            "metadata": {},
            "name": "ForecastFreezeCounter",
            "nullable": true,
            "type": "integer"
           },
           {
            "metadata": {},
            "name": "HighSalesNoPeriodCounter",
            "nullable": true,
            "type": "integer"
           },
           {
            "metadata": {},
            "name": "InfoCode",
            "nullable": true,
            "type": "string"
           },
           {
            "metadata": {},
            "name": "PicksR12",
            "nullable": true,
            "type": "integer"
           },
           {
            "metadata": {},
            "name": "NoOfPicksPerM00",
            "nullable": true,
            "type": "integer"
           },
           {
            "metadata": {},
            "name": "NoOfPicksPerM01",
            "nullable": true,
            "type": "integer"
           },
           {
            "metadata": {},
            "name": "NoOfPicksPerM02",
            "nullable": true,
            "type": "integer"
           },
           {
            "metadata": {},
            "name": "NoOfPicksPerM03",
            "nullable": true,
            "type": "integer"
           },
           {
            "metadata": {},
            "name": "NoOfPicksPerM04",
            "nullable": true,
            "type": "integer"
           },
           {
            "metadata": {},
            "name": "NoOfPicksPerM05",
            "nullable": true,
            "type": "integer"
           },
           {
            "metadata": {},
            "name": "NoOfPicksPerM06",
            "nullable": true,
            "type": "integer"
           },
           {
            "metadata": {},
            "name": "NoOfPicksPerM07",
            "nullable": true,
            "type": "integer"
           },
           {
            "metadata": {},
            "name": "NoOfPicksPerM08",
            "nullable": true,
            "type": "integer"
           },
           {
            "metadata": {},
            "name": "NoOfPicksPerM09",
            "nullable": true,
            "type": "integer"
           },
           {
            "metadata": {},
            "name": "NoOfPicksPerM10",
            "nullable": true,
            "type": "integer"
           },
           {
            "metadata": {},
            "name": "NoOfPicksPerM11",
            "nullable": true,
            "type": "integer"
           },
           {
            "metadata": {},
            "name": "NoOfPicksPerM12",
            "nullable": true,
            "type": "integer"
           },
           {
            "metadata": {},
            "name": "NoOfPicksPerM13",
            "nullable": true,
            "type": "integer"
           },
           {
            "metadata": {},
            "name": "NewPartCode",
            "nullable": true,
            "type": "integer"
           },
           {
            "metadata": {},
            "name": "OrderPoint",
            "nullable": true,
            "type": "integer"
           },
           {
            "metadata": {},
            "name": "PurchaseCodeText",
            "nullable": true,
            "type": "string"
           },
           {
            "metadata": {},
            "name": "PartPrefix",
            "nullable": true,
            "type": "string"
           },
           {
            "metadata": {},
            "name": "Price",
            "nullable": true,
            "type": "double"
           },
           {
            "metadata": {},
            "name": "PartNumber",
            "nullable": true,
            "type": "string"
           },
           {
            "metadata": {},
            "name": "ForecastPM00",
            "nullable": true,
            "type": "double"
           },
           {
            "metadata": {},
            "name": "ForecastPM01",
            "nullable": true,
            "type": "double"
           },
           {
            "metadata": {},
            "name": "ForecastPM02",
            "nullable": true,
            "type": "double"
           },
           {
            "metadata": {},
            "name": "ForecastPM03",
            "nullable": true,
            "type": "double"
           },
           {
            "metadata": {},
            "name": "ForecastPM04",
            "nullable": true,
            "type": "double"
           },
           {
            "metadata": {},
            "name": "ForecastPM05",
            "nullable": true,
            "type": "double"
           },
           {
            "metadata": {},
            "name": "ForecastPM06",
            "nullable": true,
            "type": "double"
           },
           {
            "metadata": {},
            "name": "ForecastPM07",
            "nullable": true,
            "type": "double"
           },
           {
            "metadata": {},
            "name": "ForecastPM08",
            "nullable": true,
            "type": "double"
           },
           {
            "metadata": {},
            "name": "ForecastPM09",
            "nullable": true,
            "type": "double"
           },
           {
            "metadata": {},
            "name": "ForecastPM10",
            "nullable": true,
            "type": "double"
           },
           {
            "metadata": {},
            "name": "ForecastPM11",
            "nullable": true,
            "type": "double"
           },
           {
            "metadata": {},
            "name": "ForecastPM12",
            "nullable": true,
            "type": "double"
           },
           {
            "metadata": {},
            "name": "ForecastCurrentValue",
            "nullable": true,
            "type": "double"
           },
           {
            "metadata": {},
            "name": "AvgSalesR12",
            "nullable": true,
            "type": "double"
           },
           {
            "metadata": {},
            "name": "SalesPM00",
            "nullable": true,
            "type": "integer"
           },
           {
            "metadata": {},
            "name": "SalesPM01",
            "nullable": true,
            "type": "integer"
           },
           {
            "metadata": {},
            "name": "SalesPM02",
            "nullable": true,
            "type": "integer"
           },
           {
            "metadata": {},
            "name": "SalesPM03",
            "nullable": true,
            "type": "integer"
           },
           {
            "metadata": {},
            "name": "SalesPM04",
            "nullable": true,
            "type": "integer"
           },
           {
            "metadata": {},
            "name": "SalesPM05",
            "nullable": true,
            "type": "integer"
           },
           {
            "metadata": {},
            "name": "SalesPM06",
            "nullable": true,
            "type": "integer"
           },
           {
            "metadata": {},
            "name": "SalesPM07",
            "nullable": true,
            "type": "integer"
           },
           {
            "metadata": {},
            "name": "SalesPM08",
            "nullable": true,
            "type": "integer"
           },
           {
            "metadata": {},
            "name": "SalesPM09",
            "nullable": true,
            "type": "integer"
           },
           {
            "metadata": {},
            "name": "SalesPM10",
            "nullable": true,
            "type": "integer"
           },
           {
            "metadata": {},
            "name": "SalesPM11",
            "nullable": true,
            "type": "integer"
           },
           {
            "metadata": {},
            "name": "SalesPM12",
            "nullable": true,
            "type": "integer"
           },
           {
            "metadata": {},
            "name": "SalesPM13",
            "nullable": true,
            "type": "integer"
           },
           {
            "metadata": {},
            "name": "ReplacedCode",
            "nullable": true,
            "type": "integer"
           },
           {
            "metadata": {},
            "name": "ReplacingCode",
            "nullable": true,
            "type": "integer"
           },
           {
            "metadata": {},
            "name": "StockBalanceQty",
            "nullable": true,
            "type": "integer"
           },
           {
            "metadata": {},
            "name": "SupplierGroup",
            "nullable": true,
            "type": "integer"
           },
           {
            "metadata": {},
            "name": "TrackingSignal",
            "nullable": true,
            "type": "double"
           },
           {
            "metadata": {},
            "name": "CurrencyCode",
            "nullable": true,
            "type": "string"
           },
           {
            "metadata": {},
            "name": "LPADealer",
            "nullable": true,
            "type": "string"
           },
           {
            "metadata": {},
            "name": "CountryCode",
            "nullable": true,
            "type": "string"
           },
           {
            "metadata": {},
            "name": "IgnoreSeasonalTest",
            "nullable": false,
            "type": "string"
           },
           {
            "metadata": {},
            "name": "CurrencyRate",
            "nullable": true,
            "type": "string"
           }
          ],
          "type": "struct"
         },
         "tableIdentifier": null,
         "typeStr": "pyspark.sql.dataframe.DataFrame"
        }
       ],
       "metadata": {},
       "removedWidgets": [],
       "type": "html"
      }
     },
     "output_type": "display_data"
    }
   ],
   "source": [
    "# Change code as needed\n",
    "df_R3F002_R3F015_DealerCurrency = spark.sql(\"\"\"\n",
    "SELECT \n",
    " tv_R3F002.DealerDistrictKey,\n",
    " CONCAT_WS('_', tv_R3F002.DealerDistrictKey, RIGHT(CONCAT_WS('', '0000000000', tv_R3F002.PartNumber), 10)) as DealerDistrictPartNumberKey,\n",
    " tv_R3F002.InfluenceOnServiceIndex,\n",
    " tv_R3F002.Dealer,\n",
    " tv_R3F002.District,\n",
    " tv_R3F002.MovementCode,\n",
    " tv_R3F002.PurchaseCode,\n",
    " tv_R3F002.FrequencyClass,\n",
    " tv_R3F002.PriceClass,\n",
    " tv_R3F002.CompanyCode,\n",
    " tv_R3F002.DateOfForecastRecalc,\n",
    " tv_R3F002.ForecastMethodM00,\n",
    " tv_R3F002.ForecastMethodM01,\n",
    " tv_R3F002.ForecastMethodM02,\n",
    " tv_R3F002.ForecastMethodM03,\n",
    " tv_R3F002.ForecastMethodM04,\n",
    " tv_R3F002.ForecastMethodM05,\n",
    " tv_R3F002.ForecastMethodM06,\n",
    " tv_R3F002.ForecastMethodM07,\n",
    " tv_R3F002.ForecastMethodM08,\n",
    " tv_R3F002.ForecastMethodM09,\n",
    " tv_R3F002.ForecastMethodM10,\n",
    " tv_R3F002.ForecastMethodM11,\n",
    " tv_R3F002.ForecastMethodM12,\n",
    " tv_R3F002.ForecastFreezeCounter,\n",
    " tv_R3F002.HighSalesNoPeriodCounter,\n",
    " tv_R3F002.InfoCode,\n",
    " tv_R3F002.PicksR12,\n",
    " tv_R3F002.NoOfPicksPerM00,\n",
    " tv_R3F002.NoOfPicksPerM01,\n",
    " tv_R3F002.NoOfPicksPerM02,\n",
    " tv_R3F002.NoOfPicksPerM03,\n",
    " tv_R3F002.NoOfPicksPerM04,\n",
    " tv_R3F002.NoOfPicksPerM05,\n",
    " tv_R3F002.NoOfPicksPerM06,\n",
    " tv_R3F002.NoOfPicksPerM07,\n",
    " tv_R3F002.NoOfPicksPerM08,\n",
    " tv_R3F002.NoOfPicksPerM09,\n",
    " tv_R3F002.NoOfPicksPerM10,\n",
    " tv_R3F002.NoOfPicksPerM11,\n",
    " tv_R3F002.NoOfPicksPerM12,\n",
    " tv_R3F002.NoOfPicksPerM13,\n",
    " tv_R3F002.NewPartCode,\n",
    " tv_R3F002.OrderPoint,\n",
    " tv_R3F002.PurchaseCodeText,\n",
    " tv_R3F002.PartPrefix,\n",
    " tv_R3F002.Price,\n",
    " tv_R3F002.PartNumber,\n",
    " tv_R3F002.ForecastPM00,\n",
    " tv_R3F002.ForecastPM01,\n",
    " tv_R3F002.ForecastPM02,\n",
    " tv_R3F002.ForecastPM03,\n",
    " tv_R3F002.ForecastPM04,\n",
    " tv_R3F002.ForecastPM05,\n",
    " tv_R3F002.ForecastPM06,\n",
    " tv_R3F002.ForecastPM07,\n",
    " tv_R3F002.ForecastPM08,\n",
    " tv_R3F002.ForecastPM09,\n",
    " tv_R3F002.ForecastPM10,\n",
    " tv_R3F002.ForecastPM11,\n",
    " tv_R3F002.ForecastPM12,\n",
    " tv_R3F002.ForecastCurrentValue,\n",
    " tv_R3F002.AvgSalesR12,\n",
    " tv_R3F002.SalesPM00,\n",
    " tv_R3F002.SalesPM01,\n",
    " tv_R3F002.SalesPM02,\n",
    " tv_R3F002.SalesPM03,\n",
    " tv_R3F002.SalesPM04,\n",
    " tv_R3F002.SalesPM05,\n",
    " tv_R3F002.SalesPM06,\n",
    " tv_R3F002.SalesPM07,\n",
    " tv_R3F002.SalesPM08,\n",
    " tv_R3F002.SalesPM09,\n",
    " tv_R3F002.SalesPM10,\n",
    " tv_R3F002.SalesPM11,\n",
    " tv_R3F002.SalesPM12,\n",
    " tv_R3F002.SalesPM13,\n",
    " tv_R3F002.ReplacedCode,\n",
    " tv_R3F002.ReplacingCode,\n",
    " tv_R3F002.StockBalanceQty,\n",
    " tv_R3F002.SupplierGroup,\n",
    " tv_R3F002.TrackingSignal,\n",
    " tv_R3f015.CurrencyCodes,\n",
    " tv_R3f015.LPADealer,\n",
    " tv_R3f015.CountryCode,\n",
    " tv_R3f015.IgnoreSeasonalTest,\n",
    " tv_DealerCurrency.CurrencyRate\n",
    "FROM \n",
    "    tv_R3F002\n",
    "JOIN \n",
    "    tv_R3f015 \n",
    "JOIN \n",
    "    tv_DealerCurrency\n",
    "ON \n",
    "    tv_R3F002.DealerDistrictKey = tv_R3F015.DealerDistrictKey\n",
    "AND\n",
    "    tv_R3F015.CurrencyCode = tv_DealerCurrency.CurrencyCode\n",
    "\"\"\")\n",
    "df_R3F002_R3F015_DealerCurrency.createOrReplaceTempView(\"tv_R3F002_R3F015_DealerCurrency\")"
   ]
  },
  {
   "cell_type": "code",
   "execution_count": 0,
   "metadata": {
    "application/vnd.databricks.v1+cell": {
     "inputWidgets": {},
     "nuid": "db520678-7af5-438e-aafe-bf81c5c4ac19",
     "showTitle": false,
     "title": ""
    }
   },
   "outputs": [
    {
     "data": {
      "text/html": [
       "<style scoped>\n",
       "  .ansiout {\n",
       "    display: block;\n",
       "    unicode-bidi: embed;\n",
       "    white-space: pre-wrap;\n",
       "    word-wrap: break-word;\n",
       "    word-break: break-all;\n",
       "    font-family: \"Source Code Pro\", \"Menlo\", monospace;;\n",
       "    font-size: 13px;\n",
       "    color: #555;\n",
       "    margin-left: 4px;\n",
       "    line-height: 19px;\n",
       "  }\n",
       "</style>\n",
       "<div class=\"ansiout\"></div>"
      ]
     },
     "metadata": {
      "application/vnd.databricks.v1+output": {
       "addedWidgets": {},
       "arguments": {},
       "data": "<div class=\"ansiout\"></div>",
       "datasetInfos": [
        {
         "name": "df_R3F002_R3F015_DealerCurrency_Unpivot1",
         "schema": {
          "fields": [
           {
            "metadata": {},
            "name": "DealerDistrictKey",
            "nullable": false,
            "type": "string"
           },
           {
            "metadata": {},
            "name": "DealerDistrictPartNumberKey",
            "nullable": false,
            "type": "string"
           },
           {
            "metadata": {},
            "name": "Price",
            "nullable": true,
            "type": "double"
           },
           {
            "metadata": {},
            "name": "CurrencyRate",
            "nullable": true,
            "type": "string"
           },
           {
            "metadata": {},
            "name": "ForecastMethodM00",
            "nullable": true,
            "type": "string"
           },
           {
            "metadata": {},
            "name": "ForecastMethodM01",
            "nullable": true,
            "type": "string"
           },
           {
            "metadata": {},
            "name": "ForecastMethodM02",
            "nullable": true,
            "type": "string"
           },
           {
            "metadata": {},
            "name": "ForecastMethodM03",
            "nullable": true,
            "type": "string"
           },
           {
            "metadata": {},
            "name": "ForecastMethodM04",
            "nullable": true,
            "type": "string"
           },
           {
            "metadata": {},
            "name": "ForecastMethodM05",
            "nullable": true,
            "type": "string"
           },
           {
            "metadata": {},
            "name": "ForecastMethodM06",
            "nullable": true,
            "type": "string"
           },
           {
            "metadata": {},
            "name": "ForecastMethodM07",
            "nullable": true,
            "type": "string"
           },
           {
            "metadata": {},
            "name": "ForecastMethodM08",
            "nullable": true,
            "type": "string"
           },
           {
            "metadata": {},
            "name": "ForecastMethodM09",
            "nullable": true,
            "type": "string"
           },
           {
            "metadata": {},
            "name": "ForecastMethodM10",
            "nullable": true,
            "type": "string"
           },
           {
            "metadata": {},
            "name": "ForecastMethodM11",
            "nullable": true,
            "type": "string"
           },
           {
            "metadata": {},
            "name": "ForecastMethodM12",
            "nullable": true,
            "type": "string"
           },
           {
            "metadata": {},
            "name": "NoOfPicksPerM00",
            "nullable": true,
            "type": "integer"
           },
           {
            "metadata": {},
            "name": "NoOfPicksPerM01",
            "nullable": true,
            "type": "integer"
           },
           {
            "metadata": {},
            "name": "NoOfPicksPerM02",
            "nullable": true,
            "type": "integer"
           },
           {
            "metadata": {},
            "name": "NoOfPicksPerM03",
            "nullable": true,
            "type": "integer"
           },
           {
            "metadata": {},
            "name": "NoOfPicksPerM04",
            "nullable": true,
            "type": "integer"
           },
           {
            "metadata": {},
            "name": "NoOfPicksPerM05",
            "nullable": true,
            "type": "integer"
           },
           {
            "metadata": {},
            "name": "NoOfPicksPerM06",
            "nullable": true,
            "type": "integer"
           },
           {
            "metadata": {},
            "name": "NoOfPicksPerM07",
            "nullable": true,
            "type": "integer"
           },
           {
            "metadata": {},
            "name": "NoOfPicksPerM08",
            "nullable": true,
            "type": "integer"
           },
           {
            "metadata": {},
            "name": "NoOfPicksPerM09",
            "nullable": true,
            "type": "integer"
           },
           {
            "metadata": {},
            "name": "NoOfPicksPerM10",
            "nullable": true,
            "type": "integer"
           },
           {
            "metadata": {},
            "name": "NoOfPicksPerM11",
            "nullable": true,
            "type": "integer"
           },
           {
            "metadata": {},
            "name": "NoOfPicksPerM12",
            "nullable": true,
            "type": "integer"
           },
           {
            "metadata": {},
            "name": "NoOfPicksPerM13",
            "nullable": true,
            "type": "integer"
           },
           {
            "metadata": {},
            "name": "ForecastPM00",
            "nullable": true,
            "type": "double"
           },
           {
            "metadata": {},
            "name": "ForecastPM01",
            "nullable": true,
            "type": "double"
           },
           {
            "metadata": {},
            "name": "ForecastPM02",
            "nullable": true,
            "type": "double"
           },
           {
            "metadata": {},
            "name": "ForecastPM03",
            "nullable": true,
            "type": "double"
           },
           {
            "metadata": {},
            "name": "ForecastPM04",
            "nullable": true,
            "type": "double"
           },
           {
            "metadata": {},
            "name": "ForecastPM05",
            "nullable": true,
            "type": "double"
           },
           {
            "metadata": {},
            "name": "ForecastPM06",
            "nullable": true,
            "type": "double"
           },
           {
            "metadata": {},
            "name": "ForecastPM07",
            "nullable": true,
            "type": "double"
           },
           {
            "metadata": {},
            "name": "ForecastPM08",
            "nullable": true,
            "type": "double"
           },
           {
            "metadata": {},
            "name": "ForecastPM09",
            "nullable": true,
            "type": "double"
           },
           {
            "metadata": {},
            "name": "ForecastPM10",
            "nullable": true,
            "type": "double"
           },
           {
            "metadata": {},
            "name": "ForecastPM11",
            "nullable": true,
            "type": "double"
           },
           {
            "metadata": {},
            "name": "ForecastPM12",
            "nullable": true,
            "type": "double"
           },
           {
            "metadata": {},
            "name": "SalesMonthU",
            "nullable": true,
            "type": "string"
           },
           {
            "metadata": {},
            "name": "SalesUnits",
            "nullable": true,
            "type": "integer"
           }
          ],
          "type": "struct"
         },
         "tableIdentifier": null,
         "typeStr": "pyspark.sql.dataframe.DataFrame"
        }
       ],
       "metadata": {},
       "removedWidgets": [],
       "type": "html"
      }
     },
     "output_type": "display_data"
    }
   ],
   "source": [
    "# Change code as needed\n",
    "# Unpivoting SalesPMs as (SalesMonthU, SalesUnits),\n",
    "# Calculate SalesPMs * Price * CurrencyRate as SalesSEK, \n",
    "# Unpivoting ForecastPMs AS (ForecastMonthU, ForecastUnits), \n",
    "# Calculate ForecastPMs * Price * CurrencyRate as ForecastSEK, \n",
    "# Unpivoting ForecastMethod as (ForecastMethodMonthU, ForecastMethod), \n",
    "# Unpivoting NoOfPicksPerMs as (NoOfPicksMonth, NoOfPicks)\n",
    "# It is ok to do not have the minus 13 because we don't have the forcast -13\n",
    "df_R3F002_R3F015_DealerCurrency_Unpivot = spark.sql(\"\"\" \n",
    "  SELECT \n",
    "\n",
    "  FROM \n",
    "    tv_R3F002_R3F015_DealerCurrency\n",
    "\"\"\")"
   ]
  }
 ],
 "metadata": {
  "application/vnd.databricks.v1+notebook": {
   "dashboards": [],
   "language": "python",
   "notebookMetadata": {
    "pythonIndentUnit": 2
   },
   "notebookName": "FORECAST_TOOL (Test Case)",
   "notebookOrigID": 465191664965585,
   "widgets": {}
  },
  "kernelspec": {
   "display_name": "Python 3 (ipykernel)",
   "language": "python",
   "name": "python3"
  },
  "language_info": {
   "codemirror_mode": {
    "name": "ipython",
    "version": 3
   },
   "file_extension": ".py",
   "mimetype": "text/x-python",
   "name": "python",
   "nbconvert_exporter": "python",
   "pygments_lexer": "ipython3",
   "version": "3.11.4"
  }
 },
 "nbformat": 4,
 "nbformat_minor": 1
}
